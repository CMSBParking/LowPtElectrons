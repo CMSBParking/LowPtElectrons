{
 "cells": [
  {
   "cell_type": "code",
   "execution_count": 2,
   "metadata": {
    "collapsed": true
   },
   "outputs": [],
   "source": [
    "import uproot\n",
    "import pandas as pd\n",
    "import numpy as np"
   ]
  },
  {
   "cell_type": "code",
   "execution_count": 3,
   "metadata": {
    "collapsed": false
   },
   "outputs": [],
   "source": [
    "tfile = uproot.open('electron_features.root')\n",
    "mc = pd.DataFrame(\n",
    "      tfile['features/tree'].arrays(\n",
    "         tfile['features/tree'].keys()\n",
    "         )\n",
    "      )"
   ]
  },
  {
   "cell_type": "code",
   "execution_count": 4,
   "metadata": {
    "collapsed": false
   },
   "outputs": [
    {
     "data": {
      "text/html": [
       "<div>\n",
       "<style>\n",
       "    .dataframe thead tr:only-child th {\n",
       "        text-align: right;\n",
       "    }\n",
       "\n",
       "    .dataframe thead th {\n",
       "        text-align: left;\n",
       "    }\n",
       "\n",
       "    .dataframe tbody tr th {\n",
       "        vertical-align: top;\n",
       "    }\n",
       "</style>\n",
       "<table border=\"1\" class=\"dataframe\">\n",
       "  <thead>\n",
       "    <tr style=\"text-align: right;\">\n",
       "      <th></th>\n",
       "      <th>gen_pt</th>\n",
       "      <th>trk_pt</th>\n",
       "      <th>gsf_pt</th>\n",
       "      <th>ele_pt</th>\n",
       "      <th>preid_trk_ecal_Deta</th>\n",
       "    </tr>\n",
       "  </thead>\n",
       "  <tbody>\n",
       "    <tr>\n",
       "      <th>0</th>\n",
       "      <td>3.608217</td>\n",
       "      <td>3.363398</td>\n",
       "      <td>3.456851</td>\n",
       "      <td>3.416700</td>\n",
       "      <td>0.057574</td>\n",
       "    </tr>\n",
       "    <tr>\n",
       "      <th>1</th>\n",
       "      <td>3.100642</td>\n",
       "      <td>3.081321</td>\n",
       "      <td>3.155636</td>\n",
       "      <td>3.641827</td>\n",
       "      <td>0.003723</td>\n",
       "    </tr>\n",
       "    <tr>\n",
       "      <th>2</th>\n",
       "      <td>3.924682</td>\n",
       "      <td>-1.000000</td>\n",
       "      <td>-1.000000</td>\n",
       "      <td>-1.000000</td>\n",
       "      <td>-1.000000</td>\n",
       "    </tr>\n",
       "    <tr>\n",
       "      <th>3</th>\n",
       "      <td>12.313822</td>\n",
       "      <td>12.179570</td>\n",
       "      <td>11.894906</td>\n",
       "      <td>14.609233</td>\n",
       "      <td>-0.000939</td>\n",
       "    </tr>\n",
       "    <tr>\n",
       "      <th>4</th>\n",
       "      <td>1.070635</td>\n",
       "      <td>1.024662</td>\n",
       "      <td>1.094570</td>\n",
       "      <td>-1.000000</td>\n",
       "      <td>0.006878</td>\n",
       "    </tr>\n",
       "  </tbody>\n",
       "</table>\n",
       "</div>"
      ],
      "text/plain": [
       "      gen_pt     trk_pt     gsf_pt     ele_pt  preid_trk_ecal_Deta\n",
       "0   3.608217   3.363398   3.456851   3.416700             0.057574\n",
       "1   3.100642   3.081321   3.155636   3.641827             0.003723\n",
       "2   3.924682  -1.000000  -1.000000  -1.000000            -1.000000\n",
       "3  12.313822  12.179570  11.894906  14.609233            -0.000939\n",
       "4   1.070635   1.024662   1.094570  -1.000000             0.006878"
      ]
     },
     "execution_count": 4,
     "metadata": {},
     "output_type": "execute_result"
    }
   ],
   "source": [
    "mc[mc.is_e][['gen_pt','trk_pt','gsf_pt','ele_pt','preid_trk_ecal_Deta']].head()"
   ]
  },
  {
   "cell_type": "code",
   "execution_count": 5,
   "metadata": {
    "collapsed": false
   },
   "outputs": [],
   "source": [
    "missing = mc.is_e & (mc.gsf_pt > 0) & (mc.ele_pt <= 0)\n",
    "miss = mc[missing]\n",
    "trk_dr = np.sqrt((miss.gen_eta - miss.trk_eta)**2 + (miss.gen_phi- miss.trk_phi)**2)\n",
    "gsf_dr = np.sqrt((miss.gen_eta - miss.gsf_eta)**2 + (miss.gen_phi- miss.gsf_phi)**2)"
   ]
  },
  {
   "cell_type": "code",
   "execution_count": 6,
   "metadata": {
    "collapsed": false
   },
   "outputs": [
    {
     "data": {
      "text/html": [
       "<div>\n",
       "<style>\n",
       "    .dataframe thead tr:only-child th {\n",
       "        text-align: right;\n",
       "    }\n",
       "\n",
       "    .dataframe thead th {\n",
       "        text-align: left;\n",
       "    }\n",
       "\n",
       "    .dataframe tbody tr th {\n",
       "        vertical-align: top;\n",
       "    }\n",
       "</style>\n",
       "<table border=\"1\" class=\"dataframe\">\n",
       "  <thead>\n",
       "    <tr style=\"text-align: right;\">\n",
       "      <th></th>\n",
       "      <th>lumi</th>\n",
       "      <th>evt</th>\n",
       "      <th>gen_pt</th>\n",
       "      <th>trk_pt</th>\n",
       "      <th>gsf_pt</th>\n",
       "      <th>ele_pt</th>\n",
       "      <th>preid_trk_ecal_Deta</th>\n",
       "    </tr>\n",
       "  </thead>\n",
       "  <tbody>\n",
       "    <tr>\n",
       "      <th>13</th>\n",
       "      <td>106572</td>\n",
       "      <td>31971353</td>\n",
       "      <td>5.426744</td>\n",
       "      <td>5.531412</td>\n",
       "      <td>1.736093</td>\n",
       "      <td>-1.0</td>\n",
       "      <td>-0.003527</td>\n",
       "    </tr>\n",
       "    <tr>\n",
       "      <th>83</th>\n",
       "      <td>197294</td>\n",
       "      <td>59188092</td>\n",
       "      <td>5.626984</td>\n",
       "      <td>3.422086</td>\n",
       "      <td>3.397850</td>\n",
       "      <td>-1.0</td>\n",
       "      <td>0.011344</td>\n",
       "    </tr>\n",
       "    <tr>\n",
       "      <th>99</th>\n",
       "      <td>198241</td>\n",
       "      <td>59472208</td>\n",
       "      <td>4.315388</td>\n",
       "      <td>4.142424</td>\n",
       "      <td>4.623238</td>\n",
       "      <td>-1.0</td>\n",
       "      <td>-0.011715</td>\n",
       "    </tr>\n",
       "    <tr>\n",
       "      <th>163</th>\n",
       "      <td>201513</td>\n",
       "      <td>60453732</td>\n",
       "      <td>4.425927</td>\n",
       "      <td>4.392927</td>\n",
       "      <td>5.440060</td>\n",
       "      <td>-1.0</td>\n",
       "      <td>1000.000000</td>\n",
       "    </tr>\n",
       "    <tr>\n",
       "      <th>222</th>\n",
       "      <td>203639</td>\n",
       "      <td>61091548</td>\n",
       "      <td>17.000290</td>\n",
       "      <td>17.094954</td>\n",
       "      <td>17.432041</td>\n",
       "      <td>-1.0</td>\n",
       "      <td>-0.001104</td>\n",
       "    </tr>\n",
       "  </tbody>\n",
       "</table>\n",
       "</div>"
      ],
      "text/plain": [
       "       lumi       evt     gen_pt     trk_pt     gsf_pt  ele_pt  \\\n",
       "13   106572  31971353   5.426744   5.531412   1.736093    -1.0   \n",
       "83   197294  59188092   5.626984   3.422086   3.397850    -1.0   \n",
       "99   198241  59472208   4.315388   4.142424   4.623238    -1.0   \n",
       "163  201513  60453732   4.425927   4.392927   5.440060    -1.0   \n",
       "222  203639  61091548  17.000290  17.094954  17.432041    -1.0   \n",
       "\n",
       "     preid_trk_ecal_Deta  \n",
       "13             -0.003527  \n",
       "83              0.011344  \n",
       "99             -0.011715  \n",
       "163          1000.000000  \n",
       "222            -0.001104  "
      ]
     },
     "execution_count": 6,
     "metadata": {},
     "output_type": "execute_result"
    }
   ],
   "source": [
    "miss[miss.gen_pt > 4][['lumi','evt','gen_pt','trk_pt','gsf_pt','ele_pt','preid_trk_ecal_Deta']].head()"
   ]
  },
  {
   "cell_type": "code",
   "execution_count": 8,
   "metadata": {
    "collapsed": false
   },
   "outputs": [
    {
     "data": {
      "text/plain": [
       "['has_ele_core',\n",
       " 'has_pfBlock',\n",
       " 'has_pfBlock_with_SC',\n",
       " 'has_pfEgamma',\n",
       " 'has_pfGSF_trk']"
      ]
     },
     "execution_count": 8,
     "metadata": {},
     "output_type": "execute_result"
    }
   ],
   "source": [
    "[i for i in miss.columns if 'has' in i]"
   ]
  },
  {
   "cell_type": "code",
   "execution_count": 21,
   "metadata": {
    "collapsed": false
   },
   "outputs": [
    {
     "name": "stdout",
     "output_type": "stream",
     "text": [
      "1:188451:56535285,1:197582:59274487,1:198749:59624562,1:201111:60333114,1:202082:60624397,1:203454:61035956,1:204665:61399352,1:205841:61752053\n",
      "\n",
      "\n",
      "\n",
      "{60624397: (3.2524049282073975, 0.37861114740371704, -2.5944802761077881), 59624562: (1.3961746692657471, -1.7653611898422241, 0.35166314244270325), 61035956: (1.3295170068740845, -0.74432915449142456, -0.89448297023773193), 56535285: (2.057009220123291, -0.78594261407852173, -2.8598525524139404), 59274487: (1.2078419923782349, -0.71046125888824463, 1.0331467390060425), 61399352: (1.9714157581329346, -1.4073941707611084, 1.7577246427536011), 60333114: (1.0912861824035645, -0.87859433889389038, -2.2439939975738525), 61752053: (1.9641132354736328, -1.4127223491668701, 2.0960731506347656)}\n",
      "8\n"
     ]
    }
   ],
   "source": [
    "mask = (miss.preid_trk_ecal_Deta < 999) & np.invert(miss.has_ele_core)\n",
    "#has_pfGSF_trk has_pfEgamma\n",
    "mask1 = (mask & miss.has_pfGSF_trk &np.invert(miss.has_pfEgamma))\n",
    "to_check1 = miss[mask1][['run','lumi','evt','gsf_pt','gsf_eta','gsf_phi']]\n",
    "\n",
    "print ','.join([':'.join([str(j) for j in i]) for i in to_check1[['run','lumi','evt']].as_matrix()])\n",
    "print '\\n\\n'\n",
    "vv = {}\n",
    "for i in range(to_check1.shape[0]):\n",
    "    entry = to_check1.iloc[i]\n",
    "    vv[int(entry.evt)] = (entry.gsf_pt, entry.gsf_eta, entry.gsf_phi)\n",
    "print vv\n",
    "to_check1.head()\n",
    "print to_check1.shape[0]"
   ]
  },
  {
   "cell_type": "code",
   "execution_count": 22,
   "metadata": {
    "collapsed": false
   },
   "outputs": [
    {
     "name": "stdout",
     "output_type": "stream",
     "text": [
      "1:106498:31949309,1:196220:58865712,1:198241:59472208,1:201071:60321251,1:203639:61091548,1:204605:61381254,1:205812:61743594,1:205952:61785330,1:190534:57160055,1:192724:57817001,1:194675:58402401\n",
      "\n",
      "\n",
      "\n",
      "{59472208: (4.6232380867004395, -0.65895694494247437, -0.25869864225387573), 60321251: (1.1779265403747559, 0.82428324222564697, 1.5455923080444336), 61381254: (4.7505941390991211, 0.25948464870452881, -2.0914435386657715), 58402401: (1.7245339155197144, 0.44584566354751587, -1.5300849676132202), 57817001: (9.2789793014526367, 2.2519600391387939, 0.67897021770477295), 61743594: (9.8303279876708984, 0.39349210262298584, 2.9180049896240234), 58865712: (2.4383711814880371, -1.5381476879119873, 3.0827889442443848), 61785330: (1.6721429824829102, -0.74857711791992188, -1.1605315208435059), 57160055: (2.4560666084289551, 0.96155643463134766, -2.9944767951965332), 61091548: (17.432041168212891, -0.23632617294788361, 2.0985651016235352), 31949309: (3.1733708381652832, 1.6469196081161499, -1.1084054708480835)}\n",
      "11\n"
     ]
    },
    {
     "data": {
      "text/html": [
       "<div>\n",
       "<style>\n",
       "    .dataframe thead tr:only-child th {\n",
       "        text-align: right;\n",
       "    }\n",
       "\n",
       "    .dataframe thead th {\n",
       "        text-align: left;\n",
       "    }\n",
       "\n",
       "    .dataframe tbody tr th {\n",
       "        vertical-align: top;\n",
       "    }\n",
       "</style>\n",
       "<table border=\"1\" class=\"dataframe\">\n",
       "  <thead>\n",
       "    <tr style=\"text-align: right;\">\n",
       "      <th></th>\n",
       "      <th>run</th>\n",
       "      <th>lumi</th>\n",
       "      <th>evt</th>\n",
       "      <th>gsf_pt</th>\n",
       "      <th>gsf_eta</th>\n",
       "      <th>gsf_phi</th>\n",
       "    </tr>\n",
       "  </thead>\n",
       "  <tbody>\n",
       "    <tr>\n",
       "      <th>9</th>\n",
       "      <td>1</td>\n",
       "      <td>106498</td>\n",
       "      <td>31949309</td>\n",
       "      <td>3.173371</td>\n",
       "      <td>1.646920</td>\n",
       "      <td>-1.108405</td>\n",
       "    </tr>\n",
       "    <tr>\n",
       "      <th>43</th>\n",
       "      <td>1</td>\n",
       "      <td>196220</td>\n",
       "      <td>58865712</td>\n",
       "      <td>2.438371</td>\n",
       "      <td>-1.538148</td>\n",
       "      <td>3.082789</td>\n",
       "    </tr>\n",
       "    <tr>\n",
       "      <th>99</th>\n",
       "      <td>1</td>\n",
       "      <td>198241</td>\n",
       "      <td>59472208</td>\n",
       "      <td>4.623238</td>\n",
       "      <td>-0.658957</td>\n",
       "      <td>-0.258699</td>\n",
       "    </tr>\n",
       "    <tr>\n",
       "      <th>151</th>\n",
       "      <td>1</td>\n",
       "      <td>201071</td>\n",
       "      <td>60321251</td>\n",
       "      <td>1.177927</td>\n",
       "      <td>0.824283</td>\n",
       "      <td>1.545592</td>\n",
       "    </tr>\n",
       "    <tr>\n",
       "      <th>222</th>\n",
       "      <td>1</td>\n",
       "      <td>203639</td>\n",
       "      <td>61091548</td>\n",
       "      <td>17.432041</td>\n",
       "      <td>-0.236326</td>\n",
       "      <td>2.098565</td>\n",
       "    </tr>\n",
       "  </tbody>\n",
       "</table>\n",
       "</div>"
      ],
      "text/plain": [
       "     run    lumi       evt     gsf_pt   gsf_eta   gsf_phi\n",
       "9      1  106498  31949309   3.173371  1.646920 -1.108405\n",
       "43     1  196220  58865712   2.438371 -1.538148  3.082789\n",
       "99     1  198241  59472208   4.623238 -0.658957 -0.258699\n",
       "151    1  201071  60321251   1.177927  0.824283  1.545592\n",
       "222    1  203639  61091548  17.432041 -0.236326  2.098565"
      ]
     },
     "execution_count": 22,
     "metadata": {},
     "output_type": "execute_result"
    }
   ],
   "source": [
    "#has_pfGSF_trk has_pfEgamma\n",
    "mask2 = (mask & np.invert(miss.has_pfGSF_trk) & (miss.gsf_pt > 0))\n",
    "to_check2 = miss[mask2][['run','lumi','evt','gsf_pt','gsf_eta','gsf_phi']]\n",
    "\n",
    "print ','.join([':'.join([str(j) for j in i]) for i in to_check2[['run','lumi','evt']].as_matrix()])\n",
    "print '\\n\\n'\n",
    "vv = {}\n",
    "for i in range(to_check2.shape[0]):\n",
    "    entry = to_check2.iloc[i]\n",
    "    vv[int(entry.evt)] = (entry.gsf_pt, entry.gsf_eta, entry.gsf_phi)\n",
    "print vv\n",
    "print to_check2.shape[0]\n",
    "to_check2.head()"
   ]
  },
  {
   "cell_type": "code",
   "execution_count": 17,
   "metadata": {
    "collapsed": false
   },
   "outputs": [
    {
     "name": "stdout",
     "output_type": "stream",
     "text": [
      "1:106572:31971353,1:197294:59188092,1:198241:59472208,1:201513:60453732,1:203639:61091548,1:204605:61381254,1:205249:61574621,1:205812:61743594,1:189477:56843034,1:189942:56982449,1:192009:57602444,1:192724:57817001,1:195261:58578240\n",
      "\n",
      "\n",
      "\n",
      "{60624397.0: (3.2524049282073975, 0.37861114740371704, -2.5944802761077881), 59624562.0: (1.3961746692657471, -1.7653611898422241, 0.35166314244270325), 61035956.0: (1.3295170068740845, -0.74432915449142456, -0.89448297023773193), 56535285.0: (2.057009220123291, -0.78594261407852173, -2.8598525524139404), 59274487.0: (1.2078419923782349, -0.71046125888824463, 1.0331467390060425), 61399352.0: (1.9714157581329346, -1.4073941707611084, 1.7577246427536011), 60333114.0: (1.0912861824035645, -0.87859433889389038, -2.2439939975738525), 61752053.0: (1.9641132354736328, -1.4127223491668701, 2.0960731506347656)}\n"
     ]
    }
   ],
   "source": [
    "mask = (miss.gen_pt > 4)\n",
    "to_check = miss[mask]\n",
    "print ','.join([':'.join([str(j) for j in i]) for i in to_check[['run','lumi','evt']].as_matrix()])\n"
   ]
  },
  {
   "cell_type": "code",
   "execution_count": 25,
   "metadata": {
    "collapsed": true
   },
   "outputs": [],
   "source": [
    "oth_tf = uproot.open('PFTest.root')\n",
    "oth = pd.DataFrame(\n",
    "      oth_tf['features/tree'].arrays(\n",
    "         oth_tf['features/tree'].keys()\n",
    "         )\n",
    "      )"
   ]
  },
  {
   "cell_type": "code",
   "execution_count": 26,
   "metadata": {
    "collapsed": false
   },
   "outputs": [
    {
     "data": {
      "text/html": [
       "<div>\n",
       "<style>\n",
       "    .dataframe thead tr:only-child th {\n",
       "        text-align: right;\n",
       "    }\n",
       "\n",
       "    .dataframe thead th {\n",
       "        text-align: left;\n",
       "    }\n",
       "\n",
       "    .dataframe tbody tr th {\n",
       "        vertical-align: top;\n",
       "    }\n",
       "</style>\n",
       "<table border=\"1\" class=\"dataframe\">\n",
       "  <thead>\n",
       "    <tr style=\"text-align: right;\">\n",
       "      <th></th>\n",
       "      <th>lumi</th>\n",
       "      <th>evt</th>\n",
       "      <th>gen_pt</th>\n",
       "      <th>trk_pt</th>\n",
       "      <th>gsf_pt</th>\n",
       "      <th>ele_pt</th>\n",
       "      <th>preid_trk_ecal_Deta</th>\n",
       "    </tr>\n",
       "  </thead>\n",
       "  <tbody>\n",
       "    <tr>\n",
       "      <th>1</th>\n",
       "      <td>106572</td>\n",
       "      <td>31971353</td>\n",
       "      <td>5.426744</td>\n",
       "      <td>5.531412</td>\n",
       "      <td>1.736093</td>\n",
       "      <td>-1.0</td>\n",
       "      <td>-0.003527</td>\n",
       "    </tr>\n",
       "    <tr>\n",
       "      <th>475</th>\n",
       "      <td>189477</td>\n",
       "      <td>56843034</td>\n",
       "      <td>5.807426</td>\n",
       "      <td>5.726750</td>\n",
       "      <td>6.248170</td>\n",
       "      <td>-1.0</td>\n",
       "      <td>-0.004182</td>\n",
       "    </tr>\n",
       "    <tr>\n",
       "      <th>696</th>\n",
       "      <td>189942</td>\n",
       "      <td>56982449</td>\n",
       "      <td>5.732317</td>\n",
       "      <td>5.682927</td>\n",
       "      <td>5.785018</td>\n",
       "      <td>-1.0</td>\n",
       "      <td>-0.007494</td>\n",
       "    </tr>\n",
       "  </tbody>\n",
       "</table>\n",
       "</div>"
      ],
      "text/plain": [
       "       lumi       evt    gen_pt    trk_pt    gsf_pt  ele_pt  \\\n",
       "1    106572  31971353  5.426744  5.531412  1.736093    -1.0   \n",
       "475  189477  56843034  5.807426  5.726750  6.248170    -1.0   \n",
       "696  189942  56982449  5.732317  5.682927  5.785018    -1.0   \n",
       "\n",
       "     preid_trk_ecal_Deta  \n",
       "1              -0.003527  \n",
       "475            -0.004182  \n",
       "696            -0.007494  "
      ]
     },
     "execution_count": 26,
     "metadata": {},
     "output_type": "execute_result"
    }
   ],
   "source": [
    "oth[oth.gen_pt > 4][['lumi','evt','gen_pt','trk_pt','gsf_pt','ele_pt','preid_trk_ecal_Deta']].head()"
   ]
  },
  {
   "cell_type": "code",
   "execution_count": 28,
   "metadata": {
    "collapsed": false
   },
   "outputs": [
    {
     "data": {
      "text/plain": [
       "{31971353, 56843034, 56982449}"
      ]
     },
     "execution_count": 28,
     "metadata": {},
     "output_type": "execute_result"
    }
   ],
   "source": [
    "set(oth.evt)"
   ]
  },
  {
   "cell_type": "code",
   "execution_count": 34,
   "metadata": {
    "collapsed": false
   },
   "outputs": [
    {
     "data": {
      "text/html": [
       "<div>\n",
       "<style>\n",
       "    .dataframe thead tr:only-child th {\n",
       "        text-align: right;\n",
       "    }\n",
       "\n",
       "    .dataframe thead th {\n",
       "        text-align: left;\n",
       "    }\n",
       "\n",
       "    .dataframe tbody tr th {\n",
       "        vertical-align: top;\n",
       "    }\n",
       "</style>\n",
       "<table border=\"1\" class=\"dataframe\">\n",
       "  <thead>\n",
       "    <tr style=\"text-align: right;\">\n",
       "      <th></th>\n",
       "      <th>gsf_pt</th>\n",
       "      <th>gsf_eta</th>\n",
       "      <th>gsf_phi</th>\n",
       "      <th>ele_pt</th>\n",
       "      <th>has_ele_core</th>\n",
       "    </tr>\n",
       "  </thead>\n",
       "  <tbody>\n",
       "    <tr>\n",
       "      <th>1</th>\n",
       "      <td>1.736093</td>\n",
       "      <td>1.285409</td>\n",
       "      <td>-0.986466</td>\n",
       "      <td>-1.0</td>\n",
       "      <td>True</td>\n",
       "    </tr>\n",
       "    <tr>\n",
       "      <th>475</th>\n",
       "      <td>6.248170</td>\n",
       "      <td>1.087226</td>\n",
       "      <td>0.974058</td>\n",
       "      <td>-1.0</td>\n",
       "      <td>True</td>\n",
       "    </tr>\n",
       "    <tr>\n",
       "      <th>696</th>\n",
       "      <td>5.785018</td>\n",
       "      <td>-0.464799</td>\n",
       "      <td>0.657538</td>\n",
       "      <td>-1.0</td>\n",
       "      <td>True</td>\n",
       "    </tr>\n",
       "  </tbody>\n",
       "</table>\n",
       "</div>"
      ],
      "text/plain": [
       "       gsf_pt   gsf_eta   gsf_phi  ele_pt  has_ele_core\n",
       "1    1.736093  1.285409 -0.986466    -1.0          True\n",
       "475  6.248170  1.087226  0.974058    -1.0          True\n",
       "696  5.785018 -0.464799  0.657538    -1.0          True"
      ]
     },
     "execution_count": 34,
     "metadata": {},
     "output_type": "execute_result"
    }
   ],
   "source": [
    "oth[oth.gen_pt > 4][['gsf_pt','gsf_eta','gsf_phi','ele_pt','has_ele_core']]"
   ]
  },
  {
   "cell_type": "code",
   "execution_count": null,
   "metadata": {
    "collapsed": true
   },
   "outputs": [],
   "source": []
  }
 ],
 "metadata": {
  "kernelspec": {
   "display_name": "Python 2",
   "language": "python",
   "name": "python2"
  },
  "language_info": {
   "codemirror_mode": {
    "name": "ipython",
    "version": 2
   },
   "file_extension": ".py",
   "mimetype": "text/x-python",
   "name": "python",
   "nbconvert_exporter": "python",
   "pygments_lexer": "ipython2",
   "version": "2.7.11"
  }
 },
 "nbformat": 4,
 "nbformat_minor": 2
}
